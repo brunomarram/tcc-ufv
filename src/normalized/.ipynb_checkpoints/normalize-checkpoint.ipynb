{
 "cells": [
  {
   "cell_type": "code",
   "execution_count": null,
   "metadata": {},
   "outputs": [],
   "source": [
    "import pandas as pd\n",
    "import numpy as np\n",
    "from datetime import datetime\n",
    "import re\n",
    "from collections import Counter"
   ]
  },
  {
   "cell_type": "code",
   "execution_count": null,
   "metadata": {},
   "outputs": [],
   "source": [
    "fileToNormalize = 'v1/hospitals/16-06'\n",
    "saveAt = \"hospitals/16-06\"\n",
    "\n",
    "stopwords = pd.read_csv('/code/src/normalized/stopwords.txt')\n",
    "tweetsFile = open('/code/src/tweets/'+fileToNormalize+'.csv', 'r')\n",
    "rawTweets = tweetsFile.read()"
   ]
  },
  {
   "cell_type": "code",
   "execution_count": null,
   "metadata": {},
   "outputs": [],
   "source": [
    "def removeDelimiters(tweets):\n",
    "    tweets = tweets.replace(\"]\", \"\")\n",
    "    tweets = tweets.split(\"', '\")\n",
    "    tweets[0] = tweets[0][1:]\n",
    "    tweets[-1] = tweets[-1][:-1]\n",
    "    return tweets"
   ]
  },
  {
   "cell_type": "code",
   "execution_count": null,
   "metadata": {},
   "outputs": [],
   "source": [
    "def splitTweets(tweets):\n",
    "    return tweets.split(\"\\n\");"
   ]
  },
  {
   "cell_type": "code",
   "execution_count": null,
   "metadata": {},
   "outputs": [],
   "source": [
    "def splitTweet(tweet):\n",
    "    stringDelimiter = tweet.split(\"[\")\n",
    "    latitude = stringDelimiter[0].split(\",\")[0]\n",
    "    longitude = stringDelimiter[0].split(\",\")[1]\n",
    "    arrayOfTweets = removeDelimiters(stringDelimiter[1])\n",
    "    return latitude, longitude, arrayOfTweets"
   ]
  },
  {
   "cell_type": "code",
   "execution_count": null,
   "metadata": {},
   "outputs": [],
   "source": [
    "def removeStopwords(tweet):\n",
    "    for stopword in stopwords['stopwords']:\n",
    "        stopword = stopword.replace(\" \", \"\")\n",
    "        tweet = tweet.replace(\" \"+stopword+\" \", \" \")\n",
    "        tweet = tweet.replace(\" \"+stopword+\"…\", \"…\")\n",
    "        tweet = tweet.replace(\" \"+stopword+\".\", \".\")\n",
    "        tweet = tweet.replace(\" \"+stopword+\",\", \",\")\n",
    "    return tweet"
   ]
  },
  {
   "cell_type": "code",
   "execution_count": null,
   "metadata": {},
   "outputs": [],
   "source": [
    "def removeNumerals(tweet):\n",
    "    #tweet = re.sub('[^a-zA-Z0-9 \\n\\.]', ' ', tweet)\n",
    "    tweet = re.sub('[0-9]', '', tweet)\n",
    "    return tweet"
   ]
  },
  {
   "cell_type": "code",
   "execution_count": null,
   "metadata": {},
   "outputs": [],
   "source": [
    "def removeLink(tweet):\n",
    "    return tweet.split(\"https\")[0]"
   ]
  },
  {
   "cell_type": "code",
   "execution_count": null,
   "metadata": {},
   "outputs": [],
   "source": [
    "def normalizeTweet(tweet):\n",
    "    tweet = removeStopwords(tweet)\n",
    "    tweet = removeNumerals(tweet)\n",
    "    tweet = removeLink(tweet)\n",
    "    return tweet"
   ]
  },
  {
   "cell_type": "code",
   "execution_count": null,
   "metadata": {},
   "outputs": [],
   "source": [
    "tweets = splitTweets(rawTweets)\n",
    "latitude, longitude, arrayOfTweets = splitTweet(tweets[0]) #vai virar foreach\n",
    "\n",
    "for rawTweet in arrayOfTweets:\n",
    "    tweet = normalizeTweet(rawTweet)\n",
    "    print(tweet+'\\n')"
   ]
  }
 ],
 "metadata": {
  "kernelspec": {
   "display_name": "Python 3",
   "language": "python",
   "name": "python3"
  },
  "language_info": {
   "codemirror_mode": {
    "name": "ipython",
    "version": 3
   },
   "file_extension": ".py",
   "mimetype": "text/x-python",
   "name": "python",
   "nbconvert_exporter": "python",
   "pygments_lexer": "ipython3",
   "version": "3.7.2"
  }
 },
 "nbformat": 4,
 "nbformat_minor": 2
}
