{
 "cells": [
  {
   "cell_type": "code",
   "execution_count": 2,
   "metadata": {},
   "outputs": [],
   "source": [
    "import os\n",
    "import requests\n",
    "import pandas as pd\n",
    "import numpy as np\n",
    "import matplotlib.pyplot as plt"
   ]
  },
  {
   "cell_type": "code",
   "execution_count": 3,
   "metadata": {},
   "outputs": [],
   "source": [
    "fileToRead = 'amenity_hospital'\n",
    "\n",
    "bruteData = pd.read_csv('/code/src/data/'+fileToRead+'.csv')"
   ]
  },
  {
   "cell_type": "code",
   "execution_count": 4,
   "metadata": {},
   "outputs": [],
   "source": [
    "def normalizeCoordinate(coordinate):\n",
    "    coordinate = coordinate.replace(\"POLYGON ((\", \"\")\n",
    "    coordinate = coordinate.replace(\"))\", \"\")\n",
    "    coordinate = coordinate.split(\", \")\n",
    "    return coordinate"
   ]
  },
  {
   "cell_type": "code",
   "execution_count": 5,
   "metadata": {},
   "outputs": [],
   "source": [
    "def processCoordinates(coordinates):\n",
    "    latitude = []\n",
    "    longitude = []\n",
    "    \n",
    "    for coordinate in coordinates:\n",
    "        coordinate = coordinate.split(' ')\n",
    "        latitude.append(float(coordinate[0]))\n",
    "        longitude.append(float(coordinate[1]))\n",
    "        \n",
    "    latitude = pd.Series(latitude)\n",
    "    longitude = pd.Series(longitude)\n",
    "    \n",
    "    return latitude.mean(), longitude.mean()"
   ]
  },
  {
   "cell_type": "code",
   "execution_count": 17,
   "metadata": {},
   "outputs": [],
   "source": [
    "def getTweets(latitude, longitude):\n",
    "    radius = '0.5km' # raio padrão de busca 500m\n",
    "    params = { 'q': 'sentindo', 'geocode': str(latitude)+' '+str(longitude)+' '+str(radius) }\n",
    "    headers = {  \n",
    "        'authorization': 'OAuth',\n",
    "        'oauth_consumer_key': \"l4qfHVkTONMZlcjw2gWvXYvse\", \n",
    "        'oauth_consumer_secret': '1Tt6YHzPBKwBNEb5CU2fkpk77Mh4dj3YicDGYuDTy6O0MP86MB',\n",
    "        'oauth_token': \"1260631056690094087-4eciTsIYRLNODDjagG0pk7LT2Gh4Jg\",\n",
    "        'oauth_token_secret': 'MqVCIssuhbKCbxQXNTuBYpmUCOUQUd2jwuT1M5QdewFsv',\n",
    "        'oauth_nonce': \"OAUTH_NONCE\", \n",
    "        'oauth_signature': \"OAUTH_SIGNATURE\", \n",
    "        'oauth_signature_method': \"HMAC-SHA1\", \n",
    "        'oauth_timestamp': \"OAUTH_TIMESTAMP\",\n",
    "        'oauth_version': \"1.0\"\n",
    "    }\n",
    "    tweets = requests.get('https://api.twitter.com/1.1/search/tweets.json', params=params)\n",
    "    print(tweets.json())"
   ]
  },
  {
   "cell_type": "code",
   "execution_count": 19,
   "metadata": {},
   "outputs": [
    {
     "name": "stdout",
     "output_type": "stream",
     "text": [
      "-43.92804727692307 -19.924014015384614\n"
     ]
    }
   ],
   "source": [
    "normalized = normalizeCoordinate(bruteData['geom'][1])\n",
    "latitude, longitude = processCoordinates(normalized)\n",
    "print(latitude, longitude)"
   ]
  },
  {
   "cell_type": "code",
   "execution_count": null,
   "metadata": {},
   "outputs": [],
   "source": []
  }
 ],
 "metadata": {
  "kernelspec": {
   "display_name": "Python 3",
   "language": "python",
   "name": "python3"
  },
  "language_info": {
   "codemirror_mode": {
    "name": "ipython",
    "version": 3
   },
   "file_extension": ".py",
   "mimetype": "text/x-python",
   "name": "python",
   "nbconvert_exporter": "python",
   "pygments_lexer": "ipython3",
   "version": "3.7.2"
  }
 },
 "nbformat": 4,
 "nbformat_minor": 2
}
